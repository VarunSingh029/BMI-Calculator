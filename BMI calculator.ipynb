{
 "cells": [
  {
   "cell_type": "code",
   "execution_count": 3,
   "metadata": {},
   "outputs": [
    {
     "name": "stdout",
     "output_type": "stream",
     "text": [
      "Collecting pyexcel-webio\n",
      "  Downloading pyexcel_webio-0.1.4-py2.py3-none-any.whl (11 kB)\n",
      "Collecting pyexcel>=0.5.6\n",
      "  Downloading pyexcel-0.6.6-py2.py3-none-any.whl (88 kB)\n",
      "Collecting pyexcel-io>=0.6.2\n",
      "  Downloading pyexcel_io-0.6.4-py2.py3-none-any.whl (44 kB)\n",
      "Collecting lml>=0.0.4\n",
      "  Downloading lml-0.1.0-py2.py3-none-any.whl (10 kB)\n",
      "Collecting texttable>=0.8.2\n",
      "  Downloading texttable-1.6.3-py2.py3-none-any.whl (10 kB)\n",
      "Installing collected packages: lml, pyexcel-io, texttable, pyexcel, pyexcel-webio\n",
      "Successfully installed lml-0.1.0 pyexcel-0.6.6 pyexcel-io-0.6.4 pyexcel-webio-0.1.4 texttable-1.6.3\n",
      "Note: you may need to restart the kernel to use updated packages.\n"
     ]
    }
   ],
   "source": [
    "pip install pyexcel-webio"
   ]
  },
  {
   "cell_type": "code",
   "execution_count": 15,
   "metadata": {},
   "outputs": [
    {
     "name": "stdout",
     "output_type": "stream",
     "text": [
      "Please enter the height in cm168.2\n",
      "Please enter the weight in Kg80.2\n",
      "Your BMI is :28.3 and the person is : Overweight\n"
     ]
    }
   ],
   "source": [
    "\n",
    "def bmicalculator():\n",
    "    height=float(input(\"Please enter the height in cm\"))\n",
    "    weight=float(input(\"Please enter the weight in Kg\"))\n",
    "    \n",
    "    bmi=weight/(height/100)**2\n",
    "    \n",
    "    bmi_output=[(16, 'Severely underweight'), (18.5, 'Underweight'),\n",
    "                  (25, 'Normal'), (30, 'Overweight'),\n",
    "                  (35, 'Moderately obese'), (float('inf'), 'Severely obese')]\n",
    "    \n",
    "    for tuple1,tuple2 in bmi_output:\n",
    "        if bmi<=tuple1:\n",
    "            print('Your BMI is :%.1f and the person is : %s'%(bmi,tuple2))\n",
    "            break\n",
    "        \n",
    "    \n",
    "if __name__=='__main__':\n",
    "    bmicalculator()"
   ]
  }
 ],
 "metadata": {
  "kernelspec": {
   "display_name": "Python 3",
   "language": "python",
   "name": "python3"
  },
  "language_info": {
   "codemirror_mode": {
    "name": "ipython",
    "version": 3
   },
   "file_extension": ".py",
   "mimetype": "text/x-python",
   "name": "python",
   "nbconvert_exporter": "python",
   "pygments_lexer": "ipython3",
   "version": "3.8.3"
  }
 },
 "nbformat": 4,
 "nbformat_minor": 4
}
